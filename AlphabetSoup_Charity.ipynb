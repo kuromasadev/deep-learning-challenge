{
 "cells": [
  {
   "cell_type": "markdown",
   "metadata": {},
   "source": [
    "## Preprocessing"
   ]
  },
  {
   "cell_type": "code",
   "execution_count": 1,
   "metadata": {},
   "outputs": [
    {
     "data": {
      "text/html": [
       "<div>\n",
       "<style scoped>\n",
       "    .dataframe tbody tr th:only-of-type {\n",
       "        vertical-align: middle;\n",
       "    }\n",
       "\n",
       "    .dataframe tbody tr th {\n",
       "        vertical-align: top;\n",
       "    }\n",
       "\n",
       "    .dataframe thead th {\n",
       "        text-align: right;\n",
       "    }\n",
       "</style>\n",
       "<table border=\"1\" class=\"dataframe\">\n",
       "  <thead>\n",
       "    <tr style=\"text-align: right;\">\n",
       "      <th></th>\n",
       "      <th>EIN</th>\n",
       "      <th>NAME</th>\n",
       "      <th>APPLICATION_TYPE</th>\n",
       "      <th>AFFILIATION</th>\n",
       "      <th>CLASSIFICATION</th>\n",
       "      <th>USE_CASE</th>\n",
       "      <th>ORGANIZATION</th>\n",
       "      <th>STATUS</th>\n",
       "      <th>INCOME_AMT</th>\n",
       "      <th>SPECIAL_CONSIDERATIONS</th>\n",
       "      <th>ASK_AMT</th>\n",
       "      <th>IS_SUCCESSFUL</th>\n",
       "    </tr>\n",
       "  </thead>\n",
       "  <tbody>\n",
       "    <tr>\n",
       "      <th>0</th>\n",
       "      <td>10520599</td>\n",
       "      <td>BLUE KNIGHTS MOTORCYCLE CLUB</td>\n",
       "      <td>T10</td>\n",
       "      <td>Independent</td>\n",
       "      <td>C1000</td>\n",
       "      <td>ProductDev</td>\n",
       "      <td>Association</td>\n",
       "      <td>1</td>\n",
       "      <td>0</td>\n",
       "      <td>N</td>\n",
       "      <td>5000</td>\n",
       "      <td>1</td>\n",
       "    </tr>\n",
       "    <tr>\n",
       "      <th>1</th>\n",
       "      <td>10531628</td>\n",
       "      <td>AMERICAN CHESAPEAKE CLUB CHARITABLE TR</td>\n",
       "      <td>T3</td>\n",
       "      <td>Independent</td>\n",
       "      <td>C2000</td>\n",
       "      <td>Preservation</td>\n",
       "      <td>Co-operative</td>\n",
       "      <td>1</td>\n",
       "      <td>1-9999</td>\n",
       "      <td>N</td>\n",
       "      <td>108590</td>\n",
       "      <td>1</td>\n",
       "    </tr>\n",
       "    <tr>\n",
       "      <th>2</th>\n",
       "      <td>10547893</td>\n",
       "      <td>ST CLOUD PROFESSIONAL FIREFIGHTERS</td>\n",
       "      <td>T5</td>\n",
       "      <td>CompanySponsored</td>\n",
       "      <td>C3000</td>\n",
       "      <td>ProductDev</td>\n",
       "      <td>Association</td>\n",
       "      <td>1</td>\n",
       "      <td>0</td>\n",
       "      <td>N</td>\n",
       "      <td>5000</td>\n",
       "      <td>0</td>\n",
       "    </tr>\n",
       "    <tr>\n",
       "      <th>3</th>\n",
       "      <td>10553066</td>\n",
       "      <td>SOUTHSIDE ATHLETIC ASSOCIATION</td>\n",
       "      <td>T3</td>\n",
       "      <td>CompanySponsored</td>\n",
       "      <td>C2000</td>\n",
       "      <td>Preservation</td>\n",
       "      <td>Trust</td>\n",
       "      <td>1</td>\n",
       "      <td>10000-24999</td>\n",
       "      <td>N</td>\n",
       "      <td>6692</td>\n",
       "      <td>1</td>\n",
       "    </tr>\n",
       "    <tr>\n",
       "      <th>4</th>\n",
       "      <td>10556103</td>\n",
       "      <td>GENETIC RESEARCH INSTITUTE OF THE DESERT</td>\n",
       "      <td>T3</td>\n",
       "      <td>Independent</td>\n",
       "      <td>C1000</td>\n",
       "      <td>Heathcare</td>\n",
       "      <td>Trust</td>\n",
       "      <td>1</td>\n",
       "      <td>100000-499999</td>\n",
       "      <td>N</td>\n",
       "      <td>142590</td>\n",
       "      <td>1</td>\n",
       "    </tr>\n",
       "  </tbody>\n",
       "</table>\n",
       "</div>"
      ],
      "text/plain": [
       "        EIN                                      NAME APPLICATION_TYPE  \\\n",
       "0  10520599              BLUE KNIGHTS MOTORCYCLE CLUB              T10   \n",
       "1  10531628    AMERICAN CHESAPEAKE CLUB CHARITABLE TR               T3   \n",
       "2  10547893        ST CLOUD PROFESSIONAL FIREFIGHTERS               T5   \n",
       "3  10553066            SOUTHSIDE ATHLETIC ASSOCIATION               T3   \n",
       "4  10556103  GENETIC RESEARCH INSTITUTE OF THE DESERT               T3   \n",
       "\n",
       "        AFFILIATION CLASSIFICATION      USE_CASE  ORGANIZATION  STATUS  \\\n",
       "0       Independent          C1000    ProductDev   Association       1   \n",
       "1       Independent          C2000  Preservation  Co-operative       1   \n",
       "2  CompanySponsored          C3000    ProductDev   Association       1   \n",
       "3  CompanySponsored          C2000  Preservation         Trust       1   \n",
       "4       Independent          C1000     Heathcare         Trust       1   \n",
       "\n",
       "      INCOME_AMT SPECIAL_CONSIDERATIONS  ASK_AMT  IS_SUCCESSFUL  \n",
       "0              0                      N     5000              1  \n",
       "1         1-9999                      N   108590              1  \n",
       "2              0                      N     5000              0  \n",
       "3    10000-24999                      N     6692              1  \n",
       "4  100000-499999                      N   142590              1  "
      ]
     },
     "execution_count": 1,
     "metadata": {},
     "output_type": "execute_result"
    }
   ],
   "source": [
    "# Import our dependencies\n",
    "from sklearn.model_selection import train_test_split\n",
    "from sklearn.preprocessing import StandardScaler\n",
    "import pandas as pd\n",
    "import tensorflow as tf\n",
    "\n",
    "#  Import and read the charity_data.csv.\n",
    "import pandas as pd \n",
    "application_df = pd.read_csv(\"https://static.bc-edx.com/data/dl-1-2/m21/lms/starter/charity_data.csv\")\n",
    "application_df.head()"
   ]
  },
  {
   "cell_type": "code",
   "execution_count": 28,
   "metadata": {},
   "outputs": [],
   "source": [
    "application_df = pd.read_csv(\"https://static.bc-edx.com/data/dl-1-2/m21/lms/starter/charity_data.csv\")"
   ]
  },
  {
   "cell_type": "code",
   "execution_count": 2,
   "metadata": {},
   "outputs": [],
   "source": [
    "# Drop the non-beneficial ID columns, 'EIN' and 'NAME'.\n",
    "columns_to_drop = ['EIN', 'NAME']\n",
    "application_df = application_df.drop(columns=columns_to_drop)\n"
   ]
  },
  {
   "cell_type": "code",
   "execution_count": 3,
   "metadata": {},
   "outputs": [
    {
     "name": "stdout",
     "output_type": "stream",
     "text": [
      "APPLICATION_TYPE            17\n",
      "AFFILIATION                  6\n",
      "CLASSIFICATION              71\n",
      "USE_CASE                     5\n",
      "ORGANIZATION                 4\n",
      "STATUS                       2\n",
      "INCOME_AMT                   9\n",
      "SPECIAL_CONSIDERATIONS       2\n",
      "ASK_AMT                   8747\n",
      "IS_SUCCESSFUL                2\n",
      "dtype: int64\n"
     ]
    }
   ],
   "source": [
    "# Determine the number of unique values in each column.\n",
    "unique_value_counts = application_df.nunique()\n",
    "print(unique_value_counts)\n"
   ]
  },
  {
   "cell_type": "code",
   "execution_count": 4,
   "metadata": {},
   "outputs": [
    {
     "name": "stdout",
     "output_type": "stream",
     "text": [
      "T3     27037\n",
      "T4      1542\n",
      "T6      1216\n",
      "T5      1173\n",
      "T19     1065\n",
      "T8       737\n",
      "T7       725\n",
      "T10      528\n",
      "T9       156\n",
      "T13       66\n",
      "T12       27\n",
      "T2        16\n",
      "T25        3\n",
      "T14        3\n",
      "T29        2\n",
      "T15        2\n",
      "T17        1\n",
      "Name: APPLICATION_TYPE, dtype: int64\n"
     ]
    }
   ],
   "source": [
    "# Look at APPLICATION_TYPE value counts for binning\n",
    "application_type_counts = application_df['APPLICATION_TYPE'].value_counts()\n",
    "print(application_type_counts)"
   ]
  },
  {
   "cell_type": "code",
   "execution_count": 5,
   "metadata": {},
   "outputs": [
    {
     "data": {
      "text/plain": [
       "T3       27037\n",
       "T4        1542\n",
       "T6        1216\n",
       "T5        1173\n",
       "T19       1065\n",
       "T8         737\n",
       "T7         725\n",
       "T10        528\n",
       "T9         156\n",
       "T13         66\n",
       "T12         27\n",
       "T2          16\n",
       "Other       11\n",
       "Name: APPLICATION_TYPE, dtype: int64"
      ]
     },
     "execution_count": 5,
     "metadata": {},
     "output_type": "execute_result"
    }
   ],
   "source": [
    "# Choose a cutoff value and create a list of application types to be replaced\n",
    "# use the variable name `application_types_to_replace`\n",
    "cutoff_value = 3\n",
    "application_type_counts = application_df['APPLICATION_TYPE'].value_counts()\n",
    "application_types_to_replace = application_type_counts[application_type_counts <= cutoff_value].index.tolist()\n",
    "\n",
    "# Replace in dataframe\n",
    "for app in application_types_to_replace:\n",
    "    application_df['APPLICATION_TYPE'] = application_df['APPLICATION_TYPE'].replace(app,\"Other\")\n",
    "\n",
    "# Check to make sure binning was successful\n",
    "application_df['APPLICATION_TYPE'].value_counts()"
   ]
  },
  {
   "cell_type": "code",
   "execution_count": 6,
   "metadata": {},
   "outputs": [
    {
     "data": {
      "text/html": [
       "<div>\n",
       "<style scoped>\n",
       "    .dataframe tbody tr th:only-of-type {\n",
       "        vertical-align: middle;\n",
       "    }\n",
       "\n",
       "    .dataframe tbody tr th {\n",
       "        vertical-align: top;\n",
       "    }\n",
       "\n",
       "    .dataframe thead th {\n",
       "        text-align: right;\n",
       "    }\n",
       "</style>\n",
       "<table border=\"1\" class=\"dataframe\">\n",
       "  <thead>\n",
       "    <tr style=\"text-align: right;\">\n",
       "      <th></th>\n",
       "      <th>APPLICATION_TYPE</th>\n",
       "      <th>AFFILIATION</th>\n",
       "      <th>CLASSIFICATION</th>\n",
       "      <th>USE_CASE</th>\n",
       "      <th>ORGANIZATION</th>\n",
       "      <th>STATUS</th>\n",
       "      <th>INCOME_AMT</th>\n",
       "      <th>SPECIAL_CONSIDERATIONS</th>\n",
       "      <th>ASK_AMT</th>\n",
       "      <th>IS_SUCCESSFUL</th>\n",
       "    </tr>\n",
       "  </thead>\n",
       "  <tbody>\n",
       "    <tr>\n",
       "      <th>0</th>\n",
       "      <td>T10</td>\n",
       "      <td>Independent</td>\n",
       "      <td>C1000</td>\n",
       "      <td>ProductDev</td>\n",
       "      <td>Association</td>\n",
       "      <td>1</td>\n",
       "      <td>0</td>\n",
       "      <td>N</td>\n",
       "      <td>5000</td>\n",
       "      <td>1</td>\n",
       "    </tr>\n",
       "    <tr>\n",
       "      <th>1</th>\n",
       "      <td>T3</td>\n",
       "      <td>Independent</td>\n",
       "      <td>C2000</td>\n",
       "      <td>Preservation</td>\n",
       "      <td>Co-operative</td>\n",
       "      <td>1</td>\n",
       "      <td>1-9999</td>\n",
       "      <td>N</td>\n",
       "      <td>108590</td>\n",
       "      <td>1</td>\n",
       "    </tr>\n",
       "    <tr>\n",
       "      <th>2</th>\n",
       "      <td>T5</td>\n",
       "      <td>CompanySponsored</td>\n",
       "      <td>C3000</td>\n",
       "      <td>ProductDev</td>\n",
       "      <td>Association</td>\n",
       "      <td>1</td>\n",
       "      <td>0</td>\n",
       "      <td>N</td>\n",
       "      <td>5000</td>\n",
       "      <td>0</td>\n",
       "    </tr>\n",
       "    <tr>\n",
       "      <th>3</th>\n",
       "      <td>T3</td>\n",
       "      <td>CompanySponsored</td>\n",
       "      <td>C2000</td>\n",
       "      <td>Preservation</td>\n",
       "      <td>Trust</td>\n",
       "      <td>1</td>\n",
       "      <td>10000-24999</td>\n",
       "      <td>N</td>\n",
       "      <td>6692</td>\n",
       "      <td>1</td>\n",
       "    </tr>\n",
       "    <tr>\n",
       "      <th>4</th>\n",
       "      <td>T3</td>\n",
       "      <td>Independent</td>\n",
       "      <td>C1000</td>\n",
       "      <td>Heathcare</td>\n",
       "      <td>Trust</td>\n",
       "      <td>1</td>\n",
       "      <td>100000-499999</td>\n",
       "      <td>N</td>\n",
       "      <td>142590</td>\n",
       "      <td>1</td>\n",
       "    </tr>\n",
       "  </tbody>\n",
       "</table>\n",
       "</div>"
      ],
      "text/plain": [
       "  APPLICATION_TYPE       AFFILIATION CLASSIFICATION      USE_CASE  \\\n",
       "0              T10       Independent          C1000    ProductDev   \n",
       "1               T3       Independent          C2000  Preservation   \n",
       "2               T5  CompanySponsored          C3000    ProductDev   \n",
       "3               T3  CompanySponsored          C2000  Preservation   \n",
       "4               T3       Independent          C1000     Heathcare   \n",
       "\n",
       "   ORGANIZATION  STATUS     INCOME_AMT SPECIAL_CONSIDERATIONS  ASK_AMT  \\\n",
       "0   Association       1              0                      N     5000   \n",
       "1  Co-operative       1         1-9999                      N   108590   \n",
       "2   Association       1              0                      N     5000   \n",
       "3         Trust       1    10000-24999                      N     6692   \n",
       "4         Trust       1  100000-499999                      N   142590   \n",
       "\n",
       "   IS_SUCCESSFUL  \n",
       "0              1  \n",
       "1              1  \n",
       "2              0  \n",
       "3              1  \n",
       "4              1  "
      ]
     },
     "execution_count": 6,
     "metadata": {},
     "output_type": "execute_result"
    }
   ],
   "source": [
    "application_df.head()"
   ]
  },
  {
   "cell_type": "code",
   "execution_count": 7,
   "metadata": {},
   "outputs": [
    {
     "name": "stdout",
     "output_type": "stream",
     "text": [
      "C1000    17326\n",
      "C2000     6074\n",
      "C1200     4837\n",
      "C3000     1918\n",
      "C2100     1883\n",
      "         ...  \n",
      "C4120        1\n",
      "C8210        1\n",
      "C2561        1\n",
      "C4500        1\n",
      "C2150        1\n",
      "Name: CLASSIFICATION, Length: 71, dtype: int64\n"
     ]
    }
   ],
   "source": [
    "# Look at CLASSIFICATION value counts for binning\n",
    "classification_counts = application_df['CLASSIFICATION'].value_counts()\n",
    "\n",
    "print(classification_counts)"
   ]
  },
  {
   "cell_type": "code",
   "execution_count": 8,
   "metadata": {},
   "outputs": [
    {
     "name": "stdout",
     "output_type": "stream",
     "text": [
      "C1000    17326\n",
      "C2000     6074\n",
      "C1200     4837\n",
      "C3000     1918\n",
      "C2100     1883\n",
      "C7000      777\n",
      "C1700      287\n",
      "C4000      194\n",
      "C5000      116\n",
      "C1270      114\n",
      "C2700      104\n",
      "C2800       95\n",
      "C7100       75\n",
      "C1300       58\n",
      "C1280       50\n",
      "C1230       36\n",
      "C1400       34\n",
      "C7200       32\n",
      "C2300       32\n",
      "C1240       30\n",
      "C8000       20\n",
      "C7120       18\n",
      "C1500       16\n",
      "C1800       15\n",
      "C6000       15\n",
      "C1250       14\n",
      "C8200       11\n",
      "C1238       10\n",
      "C1278       10\n",
      "C1235        9\n",
      "C1237        9\n",
      "C7210        7\n",
      "C2400        6\n",
      "C1720        6\n",
      "C4100        6\n",
      "C1257        5\n",
      "C1600        5\n",
      "C1260        3\n",
      "C2710        3\n",
      "C0           3\n",
      "C3200        2\n",
      "C1234        2\n",
      "C1246        2\n",
      "C1267        2\n",
      "C1256        2\n",
      "Name: CLASSIFICATION, dtype: int64\n"
     ]
    }
   ],
   "source": [
    "# You may find it helpful to look at CLASSIFICATION value counts >1\n",
    "classification_counts_greater_than_1 = classification_counts[classification_counts > 1]\n",
    "print(classification_counts_greater_than_1)\n"
   ]
  },
  {
   "cell_type": "code",
   "execution_count": 9,
   "metadata": {},
   "outputs": [
    {
     "data": {
      "text/plain": [
       "C1000    17326\n",
       "C2000     6074\n",
       "C1200     4837\n",
       "C3000     1918\n",
       "C2100     1883\n",
       "C7000      777\n",
       "C1700      287\n",
       "C4000      194\n",
       "C5000      116\n",
       "C1270      114\n",
       "C2700      104\n",
       "C2800       95\n",
       "C7100       75\n",
       "C1300       58\n",
       "C1280       50\n",
       "Other       45\n",
       "C1230       36\n",
       "C1400       34\n",
       "C2300       32\n",
       "C7200       32\n",
       "C1240       30\n",
       "C8000       20\n",
       "C7120       18\n",
       "C1500       16\n",
       "C6000       15\n",
       "C1800       15\n",
       "C1250       14\n",
       "C8200       11\n",
       "C1278       10\n",
       "C1238       10\n",
       "C1235        9\n",
       "C1237        9\n",
       "C7210        7\n",
       "C4100        6\n",
       "C1720        6\n",
       "C2400        6\n",
       "C1257        5\n",
       "C1600        5\n",
       "Name: CLASSIFICATION, dtype: int64"
      ]
     },
     "execution_count": 9,
     "metadata": {},
     "output_type": "execute_result"
    }
   ],
   "source": [
    "# Choose a cutoff value and create a list of classifications to be replaced\n",
    "# use the variable name `classifications_to_replace`\n",
    "classifications_to_replace = classification_counts[classification_counts <= cutoff_value].index.tolist()\n",
    "\n",
    "# Replace in dataframe\n",
    "for cls in classifications_to_replace:\n",
    "    application_df['CLASSIFICATION'] = application_df['CLASSIFICATION'].replace(cls,\"Other\")\n",
    "    \n",
    "# Check to make sure binning was successful\n",
    "application_df['CLASSIFICATION'].value_counts()"
   ]
  },
  {
   "cell_type": "code",
   "execution_count": 10,
   "metadata": {},
   "outputs": [],
   "source": [
    "# Convert categorical data to numeric with `pd.get_dummies`\n",
    "categorical_columns = ['APPLICATION_TYPE','CLASSIFICATION','AFFILIATION','USE_CASE','ORGANIZATION','STATUS','INCOME_AMT','SPECIAL_CONSIDERATIONS','ASK_AMT']\n",
    "\n",
    "application_df = pd.get_dummies(application_df, columns=categorical_columns)\n"
   ]
  },
  {
   "cell_type": "code",
   "execution_count": 17,
   "metadata": {},
   "outputs": [],
   "source": [
    "# Split our preprocessed data into our features and target arrays\n",
    "X = application_df.drop(columns=['IS_SUCCESSFUL'])  \n",
    "y = application_df['IS_SUCCESSFUL']  \n",
    "\n",
    "# Split the preprocessed data into a training and testing dataset\n",
    "X_train, X_test, y_train, y_test = train_test_split(X, y, test_size=0.2, random_state=42)\n"
   ]
  },
  {
   "cell_type": "code",
   "execution_count": 18,
   "metadata": {},
   "outputs": [],
   "source": [
    "# Create a StandardScaler instances\n",
    "scaler = StandardScaler()\n",
    "\n",
    "# Fit the StandardScaler\n",
    "X_scaler = scaler.fit(X_train)\n",
    "\n",
    "# Scale the data\n",
    "X_train_scaled = X_scaler.transform(X_train)\n",
    "X_test_scaled = X_scaler.transform(X_test)"
   ]
  },
  {
   "cell_type": "markdown",
   "metadata": {},
   "source": [
    "## Compile, Train and Evaluate the Model"
   ]
  },
  {
   "cell_type": "code",
   "execution_count": 14,
   "metadata": {},
   "outputs": [],
   "source": [
    "from tensorflow.keras.models import Sequential\n",
    "from tensorflow.keras.layers import Dense"
   ]
  },
  {
   "cell_type": "code",
   "execution_count": 15,
   "metadata": {},
   "outputs": [
    {
     "name": "stdout",
     "output_type": "stream",
     "text": [
      "Model: \"sequential_1\"\n",
      "_________________________________________________________________\n",
      " Layer (type)                Output Shape              Param #   \n",
      "=================================================================\n",
      " dense (Dense)               (None, 32)                282464    \n",
      "                                                                 \n",
      " dense_1 (Dense)             (None, 16)                528       \n",
      "                                                                 \n",
      " dense_2 (Dense)             (None, 1)                 17        \n",
      "                                                                 \n",
      "=================================================================\n",
      "Total params: 283009 (1.08 MB)\n",
      "Trainable params: 283009 (1.08 MB)\n",
      "Non-trainable params: 0 (0.00 Byte)\n",
      "_________________________________________________________________\n"
     ]
    }
   ],
   "source": [
    "# Define the model - deep neural net, i.e., the number of input features and hidden nodes for each layer.\n",
    "input_features = X_train_scaled.shape[1]\n",
    "\n",
    "nn = Sequential()\n",
    "\n",
    "# First hidden layer\n",
    "nn.add(Dense(units=32, input_dim=input_features, activation='relu'))\n",
    "\n",
    "# Second hidden layer\n",
    "nn.add(Dense(units=16, activation='relu'))\n",
    "\n",
    "# Output layer\n",
    "nn.add(Dense(units=1, activation='sigmoid'))\n",
    "\n",
    "# Check the structure of the model\n",
    "nn.summary()"
   ]
  },
  {
   "cell_type": "code",
   "execution_count": 16,
   "metadata": {},
   "outputs": [],
   "source": [
    "# Compile the model\n",
    "nn.compile(loss='binary_crossentropy', optimizer='adam', metrics=['accuracy'])\n"
   ]
  },
  {
   "cell_type": "code",
   "execution_count": 21,
   "metadata": {},
   "outputs": [],
   "source": [
    "from tensorflow.keras.callbacks import ModelCheckpoint\n"
   ]
  },
  {
   "cell_type": "code",
   "execution_count": 26,
   "metadata": {},
   "outputs": [],
   "source": [
    "checkpoint_filepath = 'model_checkpoint.h5'\n",
    "model_checkpoint_callback = ModelCheckpoint(\n",
    "    filepath=checkpoint_filepath,\n",
    "    save_weights_only=True,\n",
    "    save_freq=5\n",
    ")"
   ]
  },
  {
   "cell_type": "code",
   "execution_count": 27,
   "metadata": {},
   "outputs": [
    {
     "name": "stdout",
     "output_type": "stream",
     "text": [
      "Epoch 1/50\n",
      "858/858 [==============================] - 24s 28ms/step - loss: 0.3840 - accuracy: 0.8172\n",
      "Epoch 2/50\n",
      "858/858 [==============================] - 25s 29ms/step - loss: 0.3838 - accuracy: 0.8173\n",
      "Epoch 3/50\n",
      "858/858 [==============================] - 24s 28ms/step - loss: 0.3838 - accuracy: 0.8174\n",
      "Epoch 4/50\n",
      "858/858 [==============================] - 25s 30ms/step - loss: 0.3833 - accuracy: 0.8173\n",
      "Epoch 5/50\n",
      "858/858 [==============================] - 25s 29ms/step - loss: 0.3831 - accuracy: 0.8181\n",
      "Epoch 6/50\n",
      "858/858 [==============================] - 22s 26ms/step - loss: 0.3831 - accuracy: 0.8184\n",
      "Epoch 7/50\n",
      "858/858 [==============================] - 23s 26ms/step - loss: 0.3831 - accuracy: 0.8176\n",
      "Epoch 8/50\n",
      "858/858 [==============================] - 22s 26ms/step - loss: 0.3829 - accuracy: 0.8183\n",
      "Epoch 9/50\n",
      "858/858 [==============================] - 22s 26ms/step - loss: 0.3831 - accuracy: 0.8177\n",
      "Epoch 10/50\n",
      "858/858 [==============================] - 23s 27ms/step - loss: 0.3827 - accuracy: 0.8173\n",
      "Epoch 11/50\n",
      "858/858 [==============================] - 23s 27ms/step - loss: 0.3829 - accuracy: 0.8176\n",
      "Epoch 12/50\n",
      "858/858 [==============================] - 22s 26ms/step - loss: 0.3828 - accuracy: 0.8172\n",
      "Epoch 13/50\n",
      "858/858 [==============================] - 23s 26ms/step - loss: 0.3828 - accuracy: 0.8179\n",
      "Epoch 14/50\n",
      "858/858 [==============================] - 22s 26ms/step - loss: 0.3831 - accuracy: 0.8179\n",
      "Epoch 15/50\n",
      "858/858 [==============================] - 24s 28ms/step - loss: 0.3828 - accuracy: 0.8176\n",
      "Epoch 16/50\n",
      "858/858 [==============================] - 17s 20ms/step - loss: 0.3828 - accuracy: 0.8183\n",
      "Epoch 17/50\n",
      "858/858 [==============================] - 15s 18ms/step - loss: 0.3828 - accuracy: 0.8179\n",
      "Epoch 18/50\n",
      "858/858 [==============================] - 15s 18ms/step - loss: 0.3826 - accuracy: 0.8178\n",
      "Epoch 19/50\n",
      "858/858 [==============================] - 16s 19ms/step - loss: 0.3828 - accuracy: 0.8170\n",
      "Epoch 20/50\n",
      "858/858 [==============================] - 16s 19ms/step - loss: 0.3822 - accuracy: 0.8173\n",
      "Epoch 21/50\n",
      "858/858 [==============================] - 15s 18ms/step - loss: 0.3825 - accuracy: 0.8179\n",
      "Epoch 22/50\n",
      "858/858 [==============================] - 16s 19ms/step - loss: 0.3824 - accuracy: 0.8177\n",
      "Epoch 23/50\n",
      "858/858 [==============================] - 16s 19ms/step - loss: 0.3824 - accuracy: 0.8174\n",
      "Epoch 24/50\n",
      "858/858 [==============================] - 16s 19ms/step - loss: 0.3825 - accuracy: 0.8183\n",
      "Epoch 25/50\n",
      "858/858 [==============================] - 16s 18ms/step - loss: 0.3822 - accuracy: 0.8181\n",
      "Epoch 26/50\n",
      "858/858 [==============================] - 17s 20ms/step - loss: 0.3821 - accuracy: 0.8189\n",
      "Epoch 27/50\n",
      "858/858 [==============================] - 16s 19ms/step - loss: 0.3821 - accuracy: 0.8181\n",
      "Epoch 28/50\n",
      "858/858 [==============================] - 15s 18ms/step - loss: 0.3819 - accuracy: 0.8179\n",
      "Epoch 29/50\n",
      "858/858 [==============================] - 15s 18ms/step - loss: 0.3819 - accuracy: 0.8184\n",
      "Epoch 30/50\n",
      "858/858 [==============================] - 17s 20ms/step - loss: 0.3820 - accuracy: 0.8178\n",
      "Epoch 31/50\n",
      "858/858 [==============================] - 16s 18ms/step - loss: 0.3819 - accuracy: 0.8184\n",
      "Epoch 32/50\n",
      "858/858 [==============================] - 16s 19ms/step - loss: 0.3816 - accuracy: 0.8180\n",
      "Epoch 33/50\n",
      "858/858 [==============================] - 16s 18ms/step - loss: 0.3818 - accuracy: 0.8185\n",
      "Epoch 34/50\n",
      "858/858 [==============================] - 16s 19ms/step - loss: 0.3815 - accuracy: 0.8180\n",
      "Epoch 35/50\n",
      "858/858 [==============================] - 16s 19ms/step - loss: 0.3816 - accuracy: 0.8180\n",
      "Epoch 36/50\n",
      "858/858 [==============================] - 17s 20ms/step - loss: 0.3817 - accuracy: 0.8182\n",
      "Epoch 37/50\n",
      "858/858 [==============================] - 16s 18ms/step - loss: 0.3819 - accuracy: 0.8180\n",
      "Epoch 38/50\n",
      "858/858 [==============================] - 15s 18ms/step - loss: 0.3815 - accuracy: 0.8187\n",
      "Epoch 39/50\n",
      "858/858 [==============================] - 16s 19ms/step - loss: 0.3819 - accuracy: 0.8178\n",
      "Epoch 40/50\n",
      "858/858 [==============================] - 17s 20ms/step - loss: 0.3815 - accuracy: 0.8177\n",
      "Epoch 41/50\n",
      "858/858 [==============================] - 15s 18ms/step - loss: 0.3816 - accuracy: 0.8177\n",
      "Epoch 42/50\n",
      "858/858 [==============================] - 16s 18ms/step - loss: 0.3812 - accuracy: 0.8178\n",
      "Epoch 43/50\n",
      "858/858 [==============================] - 16s 18ms/step - loss: 0.3812 - accuracy: 0.8181\n",
      "Epoch 44/50\n",
      "858/858 [==============================] - 15s 18ms/step - loss: 0.3819 - accuracy: 0.8177\n",
      "Epoch 45/50\n",
      "858/858 [==============================] - 21s 24ms/step - loss: 0.3818 - accuracy: 0.8180\n",
      "Epoch 46/50\n",
      "858/858 [==============================] - 16s 18ms/step - loss: 0.3813 - accuracy: 0.8177\n",
      "Epoch 47/50\n",
      "858/858 [==============================] - 16s 18ms/step - loss: 0.3812 - accuracy: 0.8184\n",
      "Epoch 48/50\n",
      "858/858 [==============================] - 16s 18ms/step - loss: 0.3811 - accuracy: 0.8180\n",
      "Epoch 49/50\n",
      "858/858 [==============================] - 15s 18ms/step - loss: 0.3814 - accuracy: 0.8177\n",
      "Epoch 50/50\n",
      "858/858 [==============================] - 16s 19ms/step - loss: 0.3811 - accuracy: 0.8180\n"
     ]
    }
   ],
   "source": [
    "# Train the model\n",
    "history = nn.fit(X_train_scaled, y_train, epochs=50, verbose=1,callbacks=[model_checkpoint_callback])\n"
   ]
  },
  {
   "cell_type": "code",
   "execution_count": 28,
   "metadata": {},
   "outputs": [
    {
     "name": "stdout",
     "output_type": "stream",
     "text": [
      "215/215 - 0s - loss: 0.7387 - accuracy: 0.7143 - 332ms/epoch - 2ms/step\n",
      "Loss: 0.7386752963066101, Accuracy: 0.7142857313156128\n"
     ]
    }
   ],
   "source": [
    "# Evaluate the model using the test data\n",
    "model_loss, model_accuracy = nn.evaluate(X_test_scaled,y_test,verbose=2)\n",
    "print(f\"Loss: {model_loss}, Accuracy: {model_accuracy}\")"
   ]
  },
  {
   "cell_type": "code",
   "execution_count": 29,
   "metadata": {},
   "outputs": [
    {
     "name": "stderr",
     "output_type": "stream",
     "text": [
      "d:\\RDA\\envs\\dev00\\lib\\site-packages\\keras\\src\\engine\\training.py:3000: UserWarning: You are saving your model as an HDF5 file via `model.save()`. This file format is considered legacy. We recommend using instead the native Keras format, e.g. `model.save('my_model.keras')`.\n",
      "  saving_api.save_model(\n"
     ]
    }
   ],
   "source": [
    "# Export our model to HDF5 file\n",
    "model_filename = 'AlphabetSoupCharity.h5'\n",
    "nn.save(model_filename)\n"
   ]
  },
  {
   "cell_type": "markdown",
   "metadata": {},
   "source": [
    "## Optimized Model"
   ]
  },
  {
   "cell_type": "code",
   "execution_count": 30,
   "metadata": {},
   "outputs": [],
   "source": [
    "from tensorflow.keras.layers import Dense, Dropout, LeakyReLU\n",
    "from tensorflow.keras.optimizers import Adam"
   ]
  },
  {
   "cell_type": "code",
   "execution_count": 31,
   "metadata": {},
   "outputs": [],
   "source": [
    "# Define the model\n",
    "optimized_model = Sequential()"
   ]
  },
  {
   "cell_type": "code",
   "execution_count": 32,
   "metadata": {},
   "outputs": [],
   "source": [
    "# Adding hidden layers with more neurons and different activation functions\n",
    "optimized_model.add(Dense(units=64, input_dim=input_features))\n",
    "optimized_model.add(LeakyReLU(alpha=0.2))\n",
    "optimized_model.add(Dense(units=32))\n",
    "optimized_model.add(LeakyReLU(alpha=0.2))"
   ]
  },
  {
   "cell_type": "code",
   "execution_count": 33,
   "metadata": {},
   "outputs": [],
   "source": [
    "# Adding a dropout layer to reduce overfitting\n",
    "optimized_model.add(Dropout(0.3))\n",
    "\n",
    "# Output layer\n",
    "optimized_model.add(Dense(units=1, activation='sigmoid'))\n",
    "\n",
    "# Compile the model with a different optimizer and learning rate\n",
    "optimizer = Adam(learning_rate=0.001)\n",
    "optimized_model.compile(loss='binary_crossentropy', optimizer=optimizer, metrics=['accuracy'])\n"
   ]
  },
  {
   "cell_type": "code",
   "execution_count": 34,
   "metadata": {},
   "outputs": [
    {
     "name": "stdout",
     "output_type": "stream",
     "text": [
      "Epoch 1/30\n",
      "858/858 [==============================] - 8s 8ms/step - loss: 0.6794 - accuracy: 0.6847\n",
      "Epoch 2/30\n",
      "858/858 [==============================] - 7s 8ms/step - loss: 0.4396 - accuracy: 0.7982\n",
      "Epoch 3/30\n",
      "858/858 [==============================] - 7s 8ms/step - loss: 0.4109 - accuracy: 0.8091\n",
      "Epoch 4/30\n",
      "858/858 [==============================] - 7s 8ms/step - loss: 0.4063 - accuracy: 0.8102\n",
      "Epoch 5/30\n",
      "858/858 [==============================] - 7s 8ms/step - loss: 0.4031 - accuracy: 0.8095\n",
      "Epoch 6/30\n",
      "858/858 [==============================] - 7s 8ms/step - loss: 0.4021 - accuracy: 0.8107\n",
      "Epoch 7/30\n",
      "858/858 [==============================] - 7s 8ms/step - loss: 0.4014 - accuracy: 0.8108\n",
      "Epoch 8/30\n",
      "858/858 [==============================] - 7s 8ms/step - loss: 0.4003 - accuracy: 0.8112\n",
      "Epoch 9/30\n",
      "858/858 [==============================] - 7s 8ms/step - loss: 0.3997 - accuracy: 0.8101\n",
      "Epoch 10/30\n",
      "858/858 [==============================] - 8s 9ms/step - loss: 0.3994 - accuracy: 0.8102\n",
      "Epoch 11/30\n",
      "858/858 [==============================] - 7s 9ms/step - loss: 0.3984 - accuracy: 0.8110\n",
      "Epoch 12/30\n",
      "858/858 [==============================] - 7s 8ms/step - loss: 0.3979 - accuracy: 0.8105\n",
      "Epoch 13/30\n",
      "858/858 [==============================] - 7s 8ms/step - loss: 0.3972 - accuracy: 0.8119\n",
      "Epoch 14/30\n",
      "858/858 [==============================] - 7s 8ms/step - loss: 0.3967 - accuracy: 0.8112\n",
      "Epoch 15/30\n",
      "858/858 [==============================] - 7s 8ms/step - loss: 0.3975 - accuracy: 0.8103\n",
      "Epoch 16/30\n",
      "858/858 [==============================] - 7s 8ms/step - loss: 0.3965 - accuracy: 0.8117\n",
      "Epoch 17/30\n",
      "858/858 [==============================] - 7s 8ms/step - loss: 0.3957 - accuracy: 0.8116\n",
      "Epoch 18/30\n",
      "858/858 [==============================] - 7s 8ms/step - loss: 0.3952 - accuracy: 0.8113\n",
      "Epoch 19/30\n",
      "858/858 [==============================] - 7s 8ms/step - loss: 0.3958 - accuracy: 0.8118\n",
      "Epoch 20/30\n",
      "858/858 [==============================] - 7s 8ms/step - loss: 0.3954 - accuracy: 0.8125\n",
      "Epoch 21/30\n",
      "858/858 [==============================] - 7s 8ms/step - loss: 0.3951 - accuracy: 0.8121\n",
      "Epoch 22/30\n",
      "858/858 [==============================] - 7s 8ms/step - loss: 0.3949 - accuracy: 0.8122\n",
      "Epoch 23/30\n",
      "858/858 [==============================] - 8s 9ms/step - loss: 0.3948 - accuracy: 0.8120\n",
      "Epoch 24/30\n",
      "858/858 [==============================] - 8s 9ms/step - loss: 0.3945 - accuracy: 0.8123\n",
      "Epoch 25/30\n",
      "858/858 [==============================] - 7s 8ms/step - loss: 0.3938 - accuracy: 0.8130\n",
      "Epoch 26/30\n",
      "858/858 [==============================] - 7s 8ms/step - loss: 0.3935 - accuracy: 0.8125\n",
      "Epoch 27/30\n",
      "858/858 [==============================] - 7s 8ms/step - loss: 0.3936 - accuracy: 0.8121\n",
      "Epoch 28/30\n",
      "858/858 [==============================] - 8s 9ms/step - loss: 0.3924 - accuracy: 0.8122\n",
      "Epoch 29/30\n",
      "858/858 [==============================] - 7s 9ms/step - loss: 0.3931 - accuracy: 0.8137\n",
      "Epoch 30/30\n",
      "858/858 [==============================] - 7s 9ms/step - loss: 0.3930 - accuracy: 0.8127\n"
     ]
    }
   ],
   "source": [
    "history = optimized_model.fit(X_train_scaled, y_train, epochs=30, verbose=1)\n"
   ]
  },
  {
   "cell_type": "code",
   "execution_count": 35,
   "metadata": {},
   "outputs": [
    {
     "name": "stdout",
     "output_type": "stream",
     "text": [
      "215/215 - 0s - loss: 0.6229 - accuracy: 0.7262 - 492ms/epoch - 2ms/step\n",
      "Loss: 0.6229126453399658, Accuracy: 0.7262390851974487\n"
     ]
    }
   ],
   "source": [
    "# Evaluate the model using the test data\n",
    "model_loss, model_accuracy = optimized_model.evaluate(X_test_scaled,y_test,verbose=2)\n",
    "print(f\"Loss: {model_loss}, Accuracy: {model_accuracy}\")"
   ]
  },
  {
   "cell_type": "code",
   "execution_count": 37,
   "metadata": {},
   "outputs": [
    {
     "name": "stderr",
     "output_type": "stream",
     "text": [
      "d:\\RDA\\envs\\dev00\\lib\\site-packages\\keras\\src\\engine\\training.py:3000: UserWarning: You are saving your model as an HDF5 file via `model.save()`. This file format is considered legacy. We recommend using instead the native Keras format, e.g. `model.save('my_model.keras')`.\n",
      "  saving_api.save_model(\n"
     ]
    }
   ],
   "source": [
    "# Export our model to HDF5 file\n",
    "model_filename = 'AlphabetSoupCharity_Optimization.h5'\n",
    "optimized_model.save(model_filename)"
   ]
  },
  {
   "cell_type": "markdown",
   "metadata": {},
   "source": [
    "## Conclusion Summaries\n",
    "\n",
    "*first run, no checkpoint at 50 epochs* \\\n",
    "215/215 - 0s - loss: 0.6556 - accuracy: 0.7165 - 487ms/epoch - 2ms/step \\\n",
    "Loss: 0.6555503010749817, Accuracy: 0.716472327709198 \n",
    "\n",
    "*second run, checkpoints at 50 epochs* \\\n",
    "215/215 - 0s - loss: 0.7387 - accuracy: 0.7143 - 332ms/epoch - 2ms/step \\\n",
    "Loss: 0.7386752963066101, Accuracy: 0.7142857313156128 \n",
    "\n",
    "*third run, optimized no checkpoint, at 30 epochs* \\\n",
    "215/215 - 0s - loss: 0.6229 - accuracy: 0.7262 - 492ms/epoch - 2ms/step \\\n",
    "Loss: 0.6229126453399658, Accuracy: 0.7262390851974487\n"
   ]
  }
 ],
 "metadata": {
  "kernelspec": {
   "display_name": "Python 3",
   "language": "python",
   "name": "python3"
  },
  "language_info": {
   "codemirror_mode": {
    "name": "ipython",
    "version": 3
   },
   "file_extension": ".py",
   "mimetype": "text/x-python",
   "name": "python",
   "nbconvert_exporter": "python",
   "pygments_lexer": "ipython3",
   "version": "3.10.11"
  },
  "vscode": {
   "interpreter": {
    "hash": "31f2aee4e71d21fbe5cf8b01ff0e069b9275f58929596ceb00d14d90e3e16cd6"
   }
  }
 },
 "nbformat": 4,
 "nbformat_minor": 4
}
